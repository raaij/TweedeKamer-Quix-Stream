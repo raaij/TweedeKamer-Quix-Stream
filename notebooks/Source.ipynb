{
 "cells": [
  {
   "cell_type": "code",
   "execution_count": null,
   "id": "c0f6fc8d",
   "metadata": {},
   "outputs": [],
   "source": [
    "import requests\n",
    "import time\n",
    "import re"
   ]
  },
  {
   "cell_type": "markdown",
   "id": "5a12be83",
   "metadata": {},
   "source": [
    "Subtitles can be periodically fetched from the below url"
   ]
  },
  {
   "cell_type": "code",
   "execution_count": null,
   "id": "e6948f9f",
   "metadata": {},
   "outputs": [],
   "source": [
    "SUBTITLE_URL = \"https://livestreaming.b67.tweedekamer.nl/live/plenairezaal/subtitles/nl_Live.m3u8?sourcetimestamps=1\""
   ]
  },
  {
   "cell_type": "code",
   "execution_count": null,
   "id": "98c12dce",
   "metadata": {},
   "outputs": [],
   "source": [
    "r = requests.get(SUBTITLE_URL)"
   ]
  },
  {
   "cell_type": "code",
   "execution_count": null,
   "id": "3027e404",
   "metadata": {},
   "outputs": [],
   "source": [
    "urls = r.content\n",
    "urls"
   ]
  },
  {
   "cell_type": "code",
   "execution_count": null,
   "id": "6b934369",
   "metadata": {},
   "outputs": [],
   "source": [
    "REGEX_UUID4 = r\"[a-f0-9]{8}-?[a-f0-9]{4}-?4[a-f0-9]{3}-?[89ab][a-f0-9]{3}-?[a-f0-9]{12}\"\n",
    "REGEX_SUBTITLE_URL = f'https://amcpwetkms-euwe.streaming.media.azure.net\\/{REGEX_UUID4}\\/subtitles\\/nl\\/[0-9]+.vtt'"
   ]
  },
  {
   "cell_type": "code",
   "execution_count": null,
   "id": "59e6f7e0",
   "metadata": {},
   "outputs": [],
   "source": [
    "urls = re.findall(REGEX_SUBTITLE_URL, str(urls))\n",
    "urls"
   ]
  },
  {
   "cell_type": "markdown",
   "id": "d057f164",
   "metadata": {},
   "source": [
    "These URLs are all links to [WebVTT](https://developer.mozilla.org/en-US/docs/Web/API/WebVTT_API) files, as shown below"
   ]
  },
  {
   "cell_type": "code",
   "execution_count": null,
   "id": "1a1c13f0",
   "metadata": {},
   "outputs": [],
   "source": [
    "requests.get(urls[-2]).content"
   ]
  },
  {
   "cell_type": "markdown",
   "id": "aa213978",
   "metadata": {},
   "source": [
    "Here we don't transform this text, we'll leave that to the transform phase"
   ]
  },
  {
   "cell_type": "markdown",
   "id": "a56ce405",
   "metadata": {},
   "source": [
    "## Streamer"
   ]
  },
  {
   "cell_type": "code",
   "execution_count": null,
   "id": "406d9b81",
   "metadata": {},
   "outputs": [],
   "source": [
    "import requests\n",
    "import time\n",
    "import re\n",
    "\n",
    "SUBTITLE_URL = \"https://livestreaming.b67.tweedekamer.nl/live/plenairezaal/subtitles/nl_Live.m3u8?sourcetimestamps=1\"\n",
    "\n",
    "REGEX_UUID4 = r\"[a-f0-9]{8}-?[a-f0-9]{4}-?4[a-f0-9]{3}-?[89ab][a-f0-9]{3}-?[a-f0-9]{12}\"\n",
    "REGEX_SUBTITLE_URL = f'https://amcpwetkms-euwe.streaming.media.azure.net\\/{REGEX_UUID4}\\/subtitles\\/nl\\/[0-9]+.vtt'\n",
    "\n",
    "IDLE_TIME = 2\n",
    "MAX_URL_LENGTH = 200\n",
    "\n",
    "class SubtitleStreamer:\n",
    "    def __init__(self):\n",
    "        self.urls_seen = []\n",
    "    \n",
    "    def run(self):\n",
    "        while True:\n",
    "            try:\n",
    "                urls = self._get_new_urls()\n",
    "                urls = self._update_urls_seen(urls)\n",
    "                subs = self._get_new_subs(urls)\n",
    "                time.sleep(IDLE_TIME)\n",
    "            except KeyboardInterrupt:\n",
    "                break\n",
    "    \n",
    "    def _get_new_urls(self):\n",
    "        r = requests.get(SUBTITLE_URL)\n",
    "        urls = re.findall(REGEX_SUBTITLE_URL, str(r.content))\n",
    "        return urls\n",
    "    \n",
    "    def _get_new_subs(self, urls):\n",
    "        for url in urls:\n",
    "            print(requests.get(url).content)\n",
    "    \n",
    "    def _update_urls_seen(self, urls):\n",
    "        new_urls = []\n",
    "        for url in urls:\n",
    "            if url not in self.urls_seen:\n",
    "                self.urls_seen.append(url)\n",
    "                new_urls.append(url)\n",
    "        \n",
    "        if len(self.urls_seen) > MAX_URL_LENGTH:\n",
    "            self.urls = self.urls_seen[-MAX_URL_LENGTH:]\n",
    "        \n",
    "        return new_urls"
   ]
  },
  {
   "cell_type": "code",
   "execution_count": null,
   "id": "e19234c4",
   "metadata": {},
   "outputs": [],
   "source": [
    "streamer = SubtitleStreamer()\n",
    "streamer.run()"
   ]
  }
 ],
 "metadata": {
  "kernelspec": {
   "display_name": "Python 3 (ipykernel)",
   "language": "python",
   "name": "python3"
  },
  "language_info": {
   "codemirror_mode": {
    "name": "ipython",
    "version": 3
   },
   "file_extension": ".py",
   "mimetype": "text/x-python",
   "name": "python",
   "nbconvert_exporter": "python",
   "pygments_lexer": "ipython3",
   "version": "3.8.13"
  }
 },
 "nbformat": 4,
 "nbformat_minor": 5
}
